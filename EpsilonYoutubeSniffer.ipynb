{
 "cells": [
  {
   "cell_type": "markdown",
   "metadata": {},
   "source": [
    "This notebook documents the construction of an application that perfroms three actions:\n",
    "\n",
    "1. Create a database containing snap shots of descriptor statistics for the all the videos on a number of channels on Youtube.\n",
    "\n",
    "2. Generate reports of pertinent information summarising some subselection of the videos retrieved.\n",
    "\n",
    "3. Perform time series analysis of of historical snap-shots.\n",
    "\n",
    "\n",
    "# Part 1\n",
    "\n",
    "\n",
    "Let's build the part of the application that talks to Youtube. There is a quickstart guide at:\n",
    "https://developers.google.com/youtube/v3/quickstart/python\n",
    "but we will mostly follow our own route using \n",
    "https://github.com/youtube/api-samples/blob/master/python/search.py\n",
    "\n",
    "We will also refer to \n",
    "\n",
    "https://developers.google.com/youtube/v3/docs/\n",
    "https://www.forgov.qld.gov.au/file/21896/download?token=mo1SpiZT \n",
    "\n",
    "We want to get a list of statistics for all videos for all channels in a given list. \n",
    "\n",
    "We'll need to make calls to at least 3 different resources:\n",
    "\n",
    "Channels\n",
    "    Need: channel_name\n",
    "    Return: channel_id\n",
    "Videos\n",
    "    Need: video_id\n",
    "    Return: Statistics on video\n",
    "PlaylistItems\n",
    "    Need: playlist_id (derivable from channel_id)\n",
    "    Return: All videos_ids on that playlist\n",
    "    \n",
    "It's probably a good idea to first make an index of all the channel_ids of the channels that we want to survey. Usefully, each of these channel ids are only one character away from the id of the corresponding default playlist, which contains every video uploaded by that channel. \n",
    "\n",
    "There is a stackoverflow question which has a lot of useful information as to how we should structure our calls to the API: https://stackoverflow.com/questions/18953499/youtube-api-to-fetch-all-videos-on-a-channel/20795628\n",
    "\n",
    "From this, and a little consideration,  note a few important facts:\n",
    "1. Each call to an API resource returns at most 50 results, i.e., if a channel has uploaded 6000 videos (e.g., Khan Academy), to return every video_id we must make at least 120 calls to the API.\n",
    "2. You can iterate through this list of 6000 videos, 50 at a time, using the optional next_page token. \n",
    "3. You can actually only get a maximum of 500 videos using the next_page token.\n",
    "4. To get around the 500 max limitation, you can try to restrict your query by date of upload. This might take some trial and error if there were any periods of really high upload density.\n",
    "5. We'll need to do a big initial survey to get the video ids to date. After that the process will shift to maintenance of an existing database and require much lower volumes of queries. If we want up-to-date information on videos, that will require a fair bit of resampling.\n",
    "\n",
    "\n",
    "\n",
    "All this suggests the following order of operations:\n",
    "\n",
    "1. Construct index of channel name and channel id. \n",
    "    1. Manually construct list of names from Epsilon Stream channel list.\n",
    "    2. Use channels API call to get channel id for each.\n",
    "    3. Store list in file.\n",
    "    4. Derive upload playlist ids from channel ids. \n",
    "2. Get list of all video_ids on each channel. For each channel:\n",
    "    1. Get number of uploads. alright write the rest of this later #TODO\n",
    "    \n",
    "\n",
    "\n",
    "### Calls to the Youtube API\n",
    "\n",
    "The following API call retrieves the video_ids of the first 50 videos, according to some order, of all videos posted by Khan Academy's channel on youtube. We take advantage of the fact that every channel has a default playlist resource, which contains a list of every video published on that channel. \n"
   ]
  },
  {
   "cell_type": "code",
   "execution_count": 2,
   "metadata": {
    "collapsed": true
   },
   "outputs": [],
   "source": [
    "from googleapiclient.discovery import build  \n",
    "#We are building an authorisationless app, so we don't need oauth2client\n",
    "import os\n",
    "\n",
    "apikey_path = os.path.join(os.path.join(os.getcwd(),os.pardir),\"apikey.txt\")\n",
    "\n",
    "with open(apikey_path,\"rb\") as f:\n",
    "    apikey = f.readline()\n",
    "\n",
    "DEVELOPER_KEY = apikey\n",
    "YOUTUBE_API_SERVICE_NAME = \"youtube\"\n",
    "YOUTUBE_API_VERSION = \"v3\"\n",
    "\n",
    "playlist_id = \"UU4a-Gbdw7vOaccHmFo40b9g\" #This is the default playlist id for Khan Academy\n",
    "\n",
    "def get_youtube_playlist(playlist_id, max_results=50):\n",
    "    \n",
    "    youtube = build(serviceName = YOUTUBE_API_SERVICE_NAME,\n",
    "                    version = YOUTUBE_API_VERSION,\n",
    "                    developerKey = DEVELOPER_KEY)\n",
    "    \n",
    "    search_response = youtube.playlistItems().list(\n",
    "        playlistId = playlist_id,\n",
    "        part = 'snippet',\n",
    "        maxResults= max_results)\n",
    "    \n",
    "    return search_response.execute()\n",
    "\n",
    "playlist_result = get_youtube_playlist(playlist_id)\n"
   ]
  },
  {
   "cell_type": "code",
   "execution_count": 3,
   "metadata": {},
   "outputs": [
    {
     "name": "stdout",
     "output_type": "stream",
     "text": [
      "lPfNgTrWKyE\n",
      "-rr81Uf10pc\n",
      "chfz7QiwdOc\n",
      "i0sUJVxSXlk\n",
      "7R1B4QFd668\n",
      "VKq7wUoIIK8\n",
      "hScx0e9qyMw\n",
      "re2d80cqhYw\n",
      "zJtCmpH--70\n",
      "bP1pDUwV5hE\n",
      "9Pp_LtKgTQg\n",
      "vfmLI150g4w\n",
      "9Me8VGbA9dA\n",
      "iJr9PpY3PjM\n",
      "ogFLbvKru8A\n",
      "NkGvw18zlGQ\n",
      "X0gIJUXz6jc\n",
      "8CJ-RsoYbg0\n",
      "pVPPDbZGd04\n",
      "Lh1TPIFH7iI\n",
      "Yadshgsx6FQ\n",
      "Y650kaYNlJU\n",
      "-VZUijm02h0\n",
      "HOyNEU94xJQ\n",
      "NCENjXTMp9I\n",
      "7iTWX8bfBv0\n",
      "HR5iEX3Sy1k\n",
      "KYz6HH9wZ8g\n",
      "rn_C25fPOVw\n",
      "YyXlrRMFUJw\n",
      "Rk-EtuESRm4\n",
      "08zHioOVTd4\n",
      "C5titprQAc4\n",
      "3WVVbCUNPHY\n",
      "nh78-VKSBUY\n",
      "C8Eb4-Wz27A\n",
      "-hK1p6Ymbhw\n",
      "vA3o-lTreKM\n",
      "You0q4JJzS4\n",
      "ReahyukN0qg\n",
      "HSwIERXX4T8\n",
      "2EjEUoeIccc\n",
      "ck_L-TD1t2Y\n",
      "_VuMqbtphr0\n",
      "alqGXue7Ca8\n",
      "Zt1Esq-qOZM\n",
      "NMb3bguJ7wY\n",
      "h_ZIMHgKTP0\n",
      "DR5ZytN7Pj0\n",
      "hcUxFwUjCxM\n"
     ]
    }
   ],
   "source": [
    "for item in playlist_result[\"items\"]:\n",
    "    print item[\"snippet\"][\"resourceId\"][\"videoId\"]"
   ]
  },
  {
   "cell_type": "markdown",
   "metadata": {},
   "source": [
    "The following API call retrieves the \"id\" part of the channel resource that contains information about Khan Academy's channel. This is the channel id."
   ]
  },
  {
   "cell_type": "code",
   "execution_count": 8,
   "metadata": {
    "collapsed": true
   },
   "outputs": [],
   "source": [
    "def get_channel_id(channel_name, max_results=50):\n",
    "    \n",
    "    youtube = build(serviceName = YOUTUBE_API_SERVICE_NAME,\n",
    "                    version = YOUTUBE_API_VERSION,\n",
    "                    developerKey = DEVELOPER_KEY)\n",
    "    \n",
    "    query_response = youtube.channels().list(\n",
    "        forUsername = channel_name,\n",
    "        part = 'id',\n",
    "        maxResults= max_results)\n",
    "    \n",
    "    return query_response.execute()\n",
    "\n",
    "result = get_channel_id(\"khanacademy\")"
   ]
  },
  {
   "cell_type": "code",
   "execution_count": 13,
   "metadata": {
    "scrolled": false
   },
   "outputs": [
    {
     "name": "stdout",
     "output_type": "stream",
     "text": [
      "UC4a-Gbdw7vOaccHmFo40b9g\n"
     ]
    }
   ],
   "source": [
    "print result[\"items\"][0][\"id\"]"
   ]
  },
  {
   "cell_type": "markdown",
   "metadata": {},
   "source": [
    "This is the channel id for Khan Academy"
   ]
  }
 ],
 "metadata": {
  "kernelspec": {
   "display_name": "Python 2",
   "language": "python",
   "name": "python2"
  },
  "language_info": {
   "codemirror_mode": {
    "name": "ipython",
    "version": 2
   },
   "file_extension": ".py",
   "mimetype": "text/x-python",
   "name": "python",
   "nbconvert_exporter": "python",
   "pygments_lexer": "ipython2",
   "version": "2.7.14"
  },
  "varInspector": {
   "cols": {
    "lenName": 16,
    "lenType": 16,
    "lenVar": 40
   },
   "kernels_config": {
    "python": {
     "delete_cmd_postfix": "",
     "delete_cmd_prefix": "del ",
     "library": "var_list.py",
     "varRefreshCmd": "print(var_dic_list())"
    },
    "r": {
     "delete_cmd_postfix": ") ",
     "delete_cmd_prefix": "rm(",
     "library": "var_list.r",
     "varRefreshCmd": "cat(var_dic_list()) "
    }
   },
   "position": {
    "height": "227px",
    "left": "589.091px",
    "right": "20px",
    "top": "120px",
    "width": "345px"
   },
   "types_to_exclude": [
    "module",
    "function",
    "builtin_function_or_method",
    "instance",
    "_Feature"
   ],
   "window_display": false
  }
 },
 "nbformat": 4,
 "nbformat_minor": 2
}
